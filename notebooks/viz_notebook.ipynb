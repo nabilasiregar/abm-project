{
 "cells": [
  {
   "cell_type": "code",
   "execution_count": null,
   "metadata": {},
   "outputs": [],
   "source": [
    "import sys\n",
    "sys.path.append('../src')\n",
    "from agent import EconomicAgent, CopAgent\n",
    "from model import EconomicModel\n",
    "import numpy as np\n",
    "import pandas as pd\n",
    "import matplotlib.pyplot as plt"
   ]
  },
  {
   "cell_type": "code",
   "execution_count": null,
   "metadata": {},
   "outputs": [],
   "source": [
    "model = EconomicModel(num_econ_agents=30, initial_cops=0, width=10, height = 10, election_frequency=20, interaction_memory=20)\n",
    "for i in range(1000):\n",
    "    model.step()"
   ]
  },
  {
   "cell_type": "code",
   "execution_count": null,
   "metadata": {},
   "outputs": [],
   "source": [
    "#the model data contains data collected at the model level\n",
    "#mostly through counters that agents update when they do stuff\n",
    "#this will show current model params or cumulative data\n",
    "model_data = model.datacollector.get_model_vars_dataframe()\n",
    "\n",
    "#agent data is collected at the agent level. Watch out because cops are still agents but don't have many params\n",
    "#so NaN values are for cops, these can be dropped when calculating most stats\n",
    "agent_data = model.datacollector.get_agent_vars_dataframe()\n"
   ]
  },
  {
   "cell_type": "code",
   "execution_count": null,
   "metadata": {},
   "outputs": [],
   "source": [
    "agent_data.dropna()#this drops cop data from the agent-centered stats\n",
    "mean_df = agent_data.groupby('Step').mean().reset_index()\n",
    "df = pd.merge(model_data, mean_df)\n"
   ]
  },
  {
   "cell_type": "markdown",
   "metadata": {},
   "source": [
    "## Hypothesis 1: Comparing policing levels with crime rates"
   ]
  },
  {
   "cell_type": "code",
   "execution_count": null,
   "metadata": {},
   "outputs": [],
   "source": [
    "x = df['Step']  # Assuming 'Step' is your x-axis (you can replace it with the actual x-axis data)\n",
    "y1 = df['num_cops']\n",
    "y2 = df['num_crimes_committed']\n",
    "\n",
    "# Plotting num_cops\n",
    "fig, ax1 = plt.subplots(figsize=(10, 6))\n",
    "ax1.plot(x, y1, color='b', linewidth = 0.1, label='num_cops')\n",
    "ax1.set_xlabel('Step')\n",
    "ax1.set_ylabel('num_cops', color='b')\n",
    "ax1.tick_params(axis='y', labelcolor='b')\n",
    "\n",
    "# Creating second y-axis and plotting num_crimes_committed\n",
    "ax2 = ax1.twinx()\n",
    "ax2.plot(x, y2, color='r', label='num_crimes_committed')\n",
    "ax2.set_ylabel('num_crimes_committed', color='r')\n",
    "ax2.tick_params(axis='y', labelcolor='r')\n",
    "\n",
    "# Adding title and legend\n",
    "plt.title('Number of Cops vs Number of Crimes Committed')\n",
    "ax1.legend(loc='upper left')\n",
    "ax2.legend(loc='upper right')\n",
    "\n",
    "# Display the plot\n",
    "plt.grid(True)  # Optionally, add gridlines\n",
    "plt.tight_layout()  # Adjust layout to prevent clipping of labels\n",
    "plt.show()"
   ]
  },
  {
   "cell_type": "code",
   "execution_count": null,
   "metadata": {},
   "outputs": [],
   "source": [
    "df.columns"
   ]
  },
  {
   "cell_type": "code",
   "execution_count": null,
   "metadata": {},
   "outputs": [],
   "source": [
    "x = df['Step']  # Assuming 'Step' is your x-axis (you can replace it with the actual x-axis data)\n",
    "y1 = df['total_stolen']\n",
    "y2 = df['total_trade_income']\n",
    "\n",
    "# Plotting num_cops\n",
    "fig, ax1 = plt.subplots(figsize=(10, 6))\n",
    "ax1.plot(x, y1, color='b', linewidth = 1, label='total_stolen')\n",
    "ax1.set_xlabel('Step')\n",
    "ax1.set_ylabel('total_stolen', color='b')\n",
    "ax1.tick_params(axis='y', labelcolor='b')\n",
    "\n",
    "# Creating second y-axis and plotting num_crimes_committed\n",
    "ax2 = ax1.twinx()\n",
    "ax2.plot(x, y2, color='r', label='total_trade_income')\n",
    "ax2.set_ylabel('total_trade_income', color='r')\n",
    "ax2.tick_params(axis='y', labelcolor='r')\n",
    "\n",
    "# Adding title and legend\n",
    "plt.title('Number of Cops vs Number of Crimes Committed')\n",
    "ax1.legend(loc='upper left')\n",
    "ax2.legend(loc='upper right')\n",
    "\n",
    "# Display the plot\n",
    "plt.grid(True)  # Optionally, add gridlines\n",
    "plt.tight_layout()  # Adjust layout to prevent clipping of labels\n",
    "plt.show()"
   ]
  },
  {
   "cell_type": "markdown",
   "metadata": {},
   "source": [
    "## Hypothesis 2: Collective wealth, perceived crime threat, and level of policing"
   ]
  },
  {
   "cell_type": "code",
   "execution_count": null,
   "metadata": {},
   "outputs": [],
   "source": [
    "plt.figure(figsize=(14, 7))\n",
    "\n",
    "# to see if the avg individual's wealth would affect the number of police\n",
    "plt.subplot(121)\n",
    "ax1 = plt.gca()  \n",
    "ax2 = ax1.twinx() \n",
    "\n",
    "ax1.plot(model_data['Step'], model_data['avg_wealth'], 'b-', label='Average Wealth')\n",
    "ax2.plot(model_data['Step'], model_data['num_cops'], 'r-', label='Number of Cops')\n",
    "\n",
    "ax1.set_xlabel('Step')\n",
    "ax1.set_ylabel('Average Wealth', color='b')\n",
    "ax2.set_ylabel('Number of Cops', color='r')\n",
    "ax1.set_title('Average Wealth vs. Number of Cops Over Time')\n",
    "\n",
    "ax1.legend(loc='upper left')\n",
    "ax2.legend(loc='upper right')\n",
    "\n",
    "# to see if the overall economy (collective wealth) would affect the number of police\n",
    "plt.subplot(122)\n",
    "ax3 = plt.gca()\n",
    "ax4 = ax3.twinx() \n",
    "\n",
    "ax3.plot(model_data['Step'], model_data['total_wealth'], 'b-', label='Total Wealth')\n",
    "ax4.plot(model_data['Step'], model_data['num_cops'], 'r-', label='Number of Cops')\n",
    "\n",
    "ax3.set_xlabel('Step')\n",
    "ax3.set_ylabel('Total Wealth', color='b')\n",
    "ax4.set_ylabel('Number of Cops', color='r')\n",
    "ax3.set_title('Total Wealth vs. Number of Cops Over Time')\n",
    "\n",
    "ax3.legend(loc='upper left')\n",
    "ax4.legend(loc='upper right')\n",
    "\n",
    "plt.tight_layout()\n",
    "plt.show()\n",
    "\n"
   ]
  },
  {
   "cell_type": "code",
   "execution_count": null,
   "metadata": {},
   "outputs": [],
   "source": [
    "plt.figure(figsize=(14, 7))\n",
    "\n",
    "# Average Wealth and Voting Outcome Over Time\n",
    "plt.subplot(121)\n",
    "ax1 = plt.gca() \n",
    "ax2 = ax1.twinx()\n",
    "ax1.plot(model_data['Step'], model_data['avg_wealth'], 'b-', label='Average Wealth')\n",
    "# # if tax is not decreases nor increases, we will not plot the vote outcome\n",
    "non_zero_mask = model_data['vote_outcome'] != 0\n",
    "ax2.plot(model_data['Step'][non_zero_mask], model_data['vote_outcome'][non_zero_mask], 'r-', label='Voting Outcome')\n",
    "\n",
    "ax1.set_xlabel('Step')\n",
    "ax1.set_ylabel('Average Wealth', color='b')\n",
    "ax2.set_ylabel('Voting Outcome', color='r')\n",
    "\n",
    "ax1.legend(loc='upper left')\n",
    "ax2.legend(loc='upper right')\n",
    "\n",
    "ax1.set_title('Average Wealth and Voting Outcome Over Time')\n",
    "\n",
    "# Total Wealth vs Voting Outcome Over Time\n",
    "plt.subplot(122)\n",
    "ax1 = plt.gca() \n",
    "ax2 = ax1.twinx()\n",
    "ax1.plot(model_data['Step'], model_data['total_wealth'], 'b-', label='Total Wealth')\n",
    "# if tax is not decreases nor increases, we will not plot the vote outcome\n",
    "non_zero_mask = model_data['vote_outcome'] != 0\n",
    "ax2.plot(model_data['Step'][non_zero_mask], model_data['vote_outcome'][non_zero_mask], 'r-', label='Voting Outcome')\n",
    "\n",
    "ax1.set_xlabel('Step')\n",
    "ax1.set_ylabel('Total Wealth', color='b')\n",
    "ax2.set_ylabel('Voting Outcome', color='r')\n",
    "\n",
    "ax1.legend(loc='upper left')\n",
    "ax2.legend(loc='upper right')\n",
    "\n",
    "ax1.set_title('Total Wealth and Voting Outcome Over Time')\n",
    "\n",
    "plt.tight_layout()\n",
    "plt.show()"
   ]
  }
 ],
 "metadata": {
  "kernelspec": {
   "display_name": "ABM-Notebooks-0-1-uqMzDi6o",
   "language": "python",
   "name": "python3"
  },
  "language_info": {
   "codemirror_mode": {
    "name": "ipython",
    "version": 3
   },
   "file_extension": ".py",
   "mimetype": "text/x-python",
   "name": "python",
   "nbconvert_exporter": "python",
   "pygments_lexer": "ipython3",
   "version": "3.11.4"
  }
 },
 "nbformat": 4,
 "nbformat_minor": 2
}
