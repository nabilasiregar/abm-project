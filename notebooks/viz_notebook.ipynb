{
 "cells": [
  {
   "cell_type": "code",
   "execution_count": null,
   "metadata": {},
   "outputs": [],
   "source": [
    "import sys\n",
    "sys.path.append('../src')\n",
    "from agent import EconomicAgent, CopAgent\n",
    "from model import EconomicModel\n",
    "import numpy as np\n",
    "import pandas as pd\n",
    "import matplotlib.pyplot as plt"
   ]
  },
  {
   "cell_type": "code",
   "execution_count": null,
   "metadata": {},
   "outputs": [],
   "source": [
    "model = EconomicModel(num_econ_agents=30, initial_cops=0, width=10, height = 10, election_frequency=20, interaction_memory=20)\n",
    "for i in range(1000):\n",
    "    model.step()"
   ]
  },
  {
   "cell_type": "code",
   "execution_count": null,
   "metadata": {},
   "outputs": [],
   "source": [
    "#the model data contains data collected at the model level\n",
    "#mostly through counters that agents update when they do stuff\n",
    "#this will show current model params or cumulative data\n",
    "model_data = model.datacollector.get_model_vars_dataframe()\n",
    "\n",
    "#agent data is collected at the agent level. Watch out because cops are still agents but don't have many params\n",
    "#so NaN values are for cops, these can be dropped when calculating most stats\n",
    "agent_data = model.datacollector.get_agent_vars_dataframe()\n"
   ]
  },
  {
   "cell_type": "code",
   "execution_count": null,
   "metadata": {},
   "outputs": [],
   "source": [
    "agent_data.dropna()#this drops cop data from the agent-centered stats\n",
    "mean_df = agent_data.groupby('Step').mean().reset_index()\n",
    "df = pd.merge(model_data, mean_df)\n"
   ]
  },
  {
   "cell_type": "markdown",
   "metadata": {},
   "source": [
    "## Hypothesis 1: Comparing policing levels with crime rates"
   ]
  },
  {
   "cell_type": "code",
   "execution_count": null,
   "metadata": {},
   "outputs": [],
   "source": [
    "x = df['Step']  # Assuming 'Step' is your x-axis (you can replace it with the actual x-axis data)\n",
    "y1 = df['num_cops']\n",
    "y2 = df['num_crimes_committed']\n",
    "\n",
    "# Plotting num_cops\n",
    "fig, ax1 = plt.subplots(figsize=(10, 6))\n",
    "ax1.plot(x, y1, color='b', linewidth = 0.1, label='num_cops')\n",
    "ax1.set_xlabel('Step')\n",
    "ax1.set_ylabel('num_cops', color='b')\n",
    "ax1.tick_params(axis='y', labelcolor='b')\n",
    "\n",
    "# Creating second y-axis and plotting num_crimes_committed\n",
    "ax2 = ax1.twinx()\n",
    "ax2.plot(x, y2, color='r', label='num_crimes_committed')\n",
    "ax2.set_ylabel('num_crimes_committed', color='r')\n",
    "ax2.tick_params(axis='y', labelcolor='r')\n",
    "\n",
    "# Adding title and legend\n",
    "plt.title('Number of Cops vs Number of Crimes Committed')\n",
    "ax1.legend(loc='upper left')\n",
    "ax2.legend(loc='upper right')\n",
    "\n",
    "# Display the plot\n",
    "plt.grid(True)  # Optionally, add gridlines\n",
    "plt.tight_layout()  # Adjust layout to prevent clipping of labels\n",
    "plt.show()"
   ]
  },
  {
   "cell_type": "code",
   "execution_count": null,
   "metadata": {},
   "outputs": [],
   "source": [
    "x = df['Step']  # Assuming 'Step' is your x-axis (you can replace it with the actual x-axis data)\n",
    "y1 = df['total_stolen']\n",
    "y2 = df['total_trade_income']\n",
    "\n",
    "# Plotting num_cops\n",
    "fig, ax1 = plt.subplots(figsize=(10, 6))\n",
    "ax1.plot(x, y1, color='b', linewidth = 1, label='total_stolen')\n",
    "ax1.set_xlabel('Step')\n",
    "ax1.set_ylabel('total_stolen', color='b')\n",
    "ax1.tick_params(axis='y', labelcolor='b')\n",
    "\n",
    "# Creating second y-axis and plotting num_crimes_committed\n",
    "ax2 = ax1.twinx()\n",
    "ax2.plot(x, y2, color='r', label='total_trade_income')\n",
    "ax2.set_ylabel('total_trade_income', color='r')\n",
    "ax2.tick_params(axis='y', labelcolor='r')\n",
    "\n",
    "# Adding title and legend\n",
    "plt.title('Number of Cops vs Number of Crimes Committed')\n",
    "ax1.legend(loc='upper left')\n",
    "ax2.legend(loc='upper right')\n",
    "\n",
    "# Display the plot\n",
    "plt.grid(True)  # Optionally, add gridlines\n",
    "plt.tight_layout()  # Adjust layout to prevent clipping of labels\n",
    "plt.show()"
   ]
  },
  {
   "cell_type": "code",
   "execution_count": null,
   "metadata": {},
   "outputs": [],
   "source": [
    "data_cops = pd.read_csv('../results/vary_cops_results.csv')\n",
    "data_sentences = pd.read_csv('../results/vary_sentence_results.csv')\n",
    "\n",
    "fig, ax = plt.subplots(2, 1, figsize=(12, 10), sharex=False)\n",
    "\n",
    "for label, df in data_cops.groupby('value'):\n",
    "    ax[0].plot(df['Step'], df['num_crimes_committed'], label=f'{label}')\n",
    "ax[0].set_title('Crime Rates Over Time with Different Levels of Policing')\n",
    "ax[0].set_xlabel('Step')\n",
    "ax[0].set_ylabel('Number of Crimes Committed')\n",
    "ax[0].legend(title=\"Number of Cops\")\n",
    "\n",
    "for label, df in data_sentences.groupby('value'):\n",
    "    ax[1].plot(df['Step'], df['num_crimes_committed'], label=f'{label}')\n",
    "ax[1].set_title('Crime Rates Over Time with Different Sentence Lengths')\n",
    "ax[1].set_xlabel('Step')\n",
    "ax[1].set_ylabel('Number of Crimes Committed')\n",
    "ax[1].legend(title=\"Sentence Lengths\")\n",
    "\n",
    "plt.tight_layout()\n",
    "plt.show()\n"
   ]
  },
  {
   "cell_type": "markdown",
   "metadata": {},
   "source": [
    "## Hypothesis 2: Collective wealth, perceived crime threat, and level of policing"
   ]
  },
  {
   "cell_type": "code",
   "execution_count": null,
   "metadata": {},
   "outputs": [],
   "source": [
    "data_cops"
   ]
  },
  {
   "cell_type": "code",
   "execution_count": null,
   "metadata": {},
   "outputs": [],
   "source": [
    "fig, ax1 = plt.subplots(figsize=(10, 6))\n",
    "\n",
    "color = 'tab:green'\n",
    "ax1.set_xlabel('Step')\n",
    "ax1.set_ylabel('Total Wealth', color=color)\n",
    "ax1.plot(model_data['Step'], model_data['total_wealth'], color=color, label='Total Wealth')\n",
    "ax1.tick_params(axis='y', labelcolor=color)\n",
    "\n",
    "ax2 = ax1.twinx()\n",
    "color = 'tab:purple'\n",
    "ax2.set_ylabel('Average Crime Perception', color=color)\n",
    "ax2.plot(model_data['Step'], model_data['avg_crime_perception'], color=color, linestyle='--', label='Avg Crime Perception')\n",
    "ax2.tick_params(axis='y', labelcolor=color)\n",
    "\n",
    "plt.title('Wealth and Crime Perception Over Time')\n",
    "fig.tight_layout() \n",
    "\n",
    "ax1.legend(loc='upper left')\n",
    "ax2.legend(loc='upper right')\n",
    "\n",
    "plt.show()"
   ]
  },
  {
   "cell_type": "code",
   "execution_count": null,
   "metadata": {},
   "outputs": [],
   "source": [
    "plt.figure(figsize=(14, 7))\n",
    "\n",
    "# Average Wealth and Voting Outcome Over Time\n",
    "plt.subplot(121)\n",
    "ax1 = plt.gca() \n",
    "ax2 = ax1.twinx()\n",
    "ax1.plot(model_data['Step'], model_data['avg_wealth'], 'b-', label='Average Wealth')\n",
    "# # if tax is not decreases nor increases, we will not plot the vote outcome\n",
    "non_zero_mask = model_data['vote_outcome'] != 0\n",
    "ax2.plot(model_data['Step'][non_zero_mask], model_data['vote_outcome'][non_zero_mask], 'r-', label='Voting Outcome')\n",
    "\n",
    "ax1.set_xlabel('Step')\n",
    "ax1.set_ylabel('Average Wealth', color='b')\n",
    "ax2.set_ylabel('Voting Outcome', color='r')\n",
    "\n",
    "ax1.legend(loc='upper left')\n",
    "ax2.legend(loc='upper right')\n",
    "\n",
    "ax1.set_title('Average Wealth and Voting Outcome Over Time')\n",
    "\n",
    "# Total Wealth vs Voting Outcome Over Time\n",
    "plt.subplot(122)\n",
    "ax1 = plt.gca() \n",
    "ax2 = ax1.twinx()\n",
    "ax1.plot(model_data['Step'], model_data['total_wealth'], 'b-', label='Total Wealth')\n",
    "# if tax is not decreases nor increases, we will not plot the vote outcome\n",
    "non_zero_mask = model_data['vote_outcome'] != 0\n",
    "ax2.plot(model_data['Step'][non_zero_mask], model_data['vote_outcome'][non_zero_mask], 'r-', label='Voting Outcome')\n",
    "\n",
    "ax1.set_xlabel('Step')\n",
    "ax1.set_ylabel('Total Wealth', color='b')\n",
    "ax2.set_ylabel('Voting Outcome', color='r')\n",
    "\n",
    "ax1.legend(loc='upper left')\n",
    "ax2.legend(loc='upper right')\n",
    "\n",
    "ax1.set_title('Total Wealth and Voting Outcome Over Time')\n",
    "\n",
    "plt.tight_layout()\n",
    "plt.show()"
   ]
  },
  {
   "cell_type": "code",
   "execution_count": null,
   "metadata": {},
   "outputs": [],
   "source": [
    "# to see if the level of average individual wealth would affect the number of crimes committed\n",
    "fig, ax1 = plt.subplots()\n",
    "\n",
    "ax1.plot(model_data['Step'], model_data['avg_wealth'], color='blue', label='Average Wealth')\n",
    "ax1.set_xlabel('Step')\n",
    "ax1.set_ylabel('Average Wealth per Agent', color='blue')\n",
    "ax1.tick_params(axis='y', labelcolor='blue') \n",
    "\n",
    "ax2 = ax1.twinx()\n",
    "ax2.plot(model_data['Step'], model_data['num_crimes_committed'], color='red', label='Number of Crimes Committed')\n",
    "ax2.set_ylabel('Number of Crimes Committed', color='red')\n",
    "ax2.tick_params(axis='y', labelcolor='red')  \n",
    "\n",
    "plt.title('Average Individual Wealth vs Number of Crimes Committed Over Time')\n",
    "fig.tight_layout() \n",
    "\n",
    "ax1.legend(loc='upper left')\n",
    "ax2.legend(loc='upper right')\n",
    "\n",
    "plt.show()"
   ]
  },
  {
   "cell_type": "markdown",
   "metadata": {},
   "source": [
    "## Hypothesis 3: Wealth distribution and level of policing"
   ]
  },
  {
   "cell_type": "code",
   "execution_count": null,
   "metadata": {},
   "outputs": [],
   "source": [
    "fig, ax = plt.subplots(1, 2, figsize=(12, 6))\n",
    "\n",
    "ax[0].plot(model_data['Step'], model_data['avg_wealth'], color='blue', label='Average Wealth')\n",
    "ax[0].set_title('Average Wealth Over Time')\n",
    "ax[0].set_xlabel('Time Step')\n",
    "ax[0].set_ylabel('Average Wealth')\n",
    "\n",
    "ax[1].plot(model_data['Step'], model_data['total_wealth'], color='green', label='Total Wealth')\n",
    "ax[1].set_title('Total Wealth Over Time')\n",
    "ax[1].set_xlabel('Time Step')\n",
    "ax[1].set_ylabel('Total Wealth')\n",
    "\n",
    "plt.tight_layout()\n",
    "plt.show()"
   ]
  },
  {
   "cell_type": "code",
   "execution_count": null,
   "metadata": {},
   "outputs": [],
   "source": [
    "# turn MultiIndex into regular columns\n",
    "agent_data.reset_index(inplace=True)\n",
    "print(agent_data.head())\n"
   ]
  },
  {
   "cell_type": "code",
   "execution_count": null,
   "metadata": {},
   "outputs": [],
   "source": [
    "# to observe the distribution of wealth among individuals\n",
    "selected_timesteps = [200, 300, 700]\n",
    "\n",
    "fig, axes = plt.subplots(1, len(selected_timesteps), figsize=(15, 5), sharey=True)\n",
    "\n",
    "for i, timestep in enumerate(selected_timesteps):\n",
    "    ax = axes[i]\n",
    "    timestep_data = agent_data[agent_data['Step'] == timestep]['wealth']\n",
    "    ax.hist(timestep_data, bins=20, color='skyblue', edgecolor='black')\n",
    "    ax.set_title(f'Wealth Distribution at Timestep {timestep}')\n",
    "    ax.set_xlabel('Wealth')\n",
    "    if i == 0:\n",
    "        ax.set_ylabel('Number of Agents')\n",
    "\n",
    "plt.tight_layout()\n",
    "plt.show()"
   ]
  },
  {
   "cell_type": "code",
   "execution_count": null,
   "metadata": {},
   "outputs": [],
   "source": [
    "plt.figure(figsize=(14, 7))\n",
    "\n",
    "# to see if the avg individual's wealth would affect the number of police\n",
    "plt.subplot(121)\n",
    "ax1 = plt.gca()  \n",
    "ax2 = ax1.twinx() \n",
    "\n",
    "ax1.plot(model_data['Step'], model_data['avg_wealth'], 'b-', label='Average Wealth')\n",
    "ax2.plot(model_data['Step'], model_data['num_cops'], 'r-', label='Number of Cops')\n",
    "\n",
    "ax1.set_xlabel('Step')\n",
    "ax1.set_ylabel('Average Wealth', color='b')\n",
    "ax2.set_ylabel('Number of Cops', color='r')\n",
    "ax1.set_title('Average Wealth vs. Number of Cops Over Time')\n",
    "\n",
    "ax1.legend(loc='upper left')\n",
    "ax2.legend(loc='upper right')\n",
    "\n",
    "# to see if the overall economy (collective wealth) would affect the number of police\n",
    "plt.subplot(122)\n",
    "ax3 = plt.gca()\n",
    "ax4 = ax3.twinx() \n",
    "\n",
    "ax3.plot(model_data['Step'], model_data['total_wealth'], 'b-', label='Total Wealth')\n",
    "ax4.plot(model_data['Step'], model_data['num_cops'], 'r-', label='Number of Cops')\n",
    "\n",
    "ax3.set_xlabel('Step')\n",
    "ax3.set_ylabel('Total Wealth', color='b')\n",
    "ax4.set_ylabel('Number of Cops', color='r')\n",
    "ax3.set_title('Total Wealth vs. Number of Cops Over Time')\n",
    "\n",
    "ax3.legend(loc='upper left')\n",
    "ax4.legend(loc='upper right')\n",
    "\n",
    "plt.tight_layout()\n",
    "plt.show()"
   ]
  },
  {
   "cell_type": "markdown",
   "metadata": {},
   "source": [
    "## Others"
   ]
  },
  {
   "cell_type": "markdown",
   "metadata": {},
   "source": [
    "Confidence interval plot\n"
   ]
  },
  {
   "cell_type": "code",
   "execution_count": null,
   "metadata": {},
   "outputs": [],
   "source": [
    "def calculate_confidence_intervals(results, col):\n",
    "    grouped = results.groupby(['Step', 'value'])[col]\n",
    "    means = grouped.mean()\n",
    "    stds = grouped.std()\n",
    "    counts = grouped.size()\n",
    "    \n",
    "\n",
    "    ci_low = means - 1.96 * (stds / np.sqrt(counts))\n",
    "    ci_high = means + 1.96 * (stds / np.sqrt(counts))\n",
    "\n",
    "    ci_df = pd.DataFrame({\n",
    "        \"mean\": means,\n",
    "        \"ci_low\": ci_low,\n",
    "        \"ci_high\": ci_high\n",
    "    }).reset_index()\n",
    "\n",
    "    return ci_df\n",
    "\n",
    "def plot_with_confidence_intervals(results, col):\n",
    "    \n",
    "    parameter_values = results['value'].unique()\n",
    "    parameter_name = results['param'].unique()[0]\n",
    "\n",
    "    plt.figure(figsize=(10, 6))\n",
    "\n",
    "    for value in parameter_values:\n",
    "        subset = results[results['value'] == value]\n",
    "        ci_results = calculate_confidence_intervals(subset, col)\n",
    "\n",
    "        plt.plot(ci_results['Step'], ci_results['mean'],label=f'{value}') \n",
    "        plt.fill_between(ci_results['Step'], ci_results['ci_low'], ci_results['ci_high'], alpha=0.3)\n",
    "\n",
    "    plt.xlabel('Step')\n",
    "    plt.ylabel(col.replace('_', ' ').title())  \n",
    "    plt.title(f'{col.replace(\"_\", \" \").title()} over time with 95% Confidence Intervals')\n",
    "    plt.legend(loc='lower right', title=parameter_name)\n",
    "    plt.grid(True)\n",
    "    plt.show()\n",
    "\n",
    "\n",
    "\n",
    "def plot_with_confidence_intervals_and_dual_axis(results, col1, col2):\n",
    "\n",
    "    parameter_values = results['value'].unique()\n",
    "    parameter_name = results['param'].unique()[0]\n",
    "\n",
    "    for value in parameter_values:\n",
    "        subset = results[results['value'] == value] \n",
    "        ci_results_col1 = calculate_confidence_intervals(subset, col1)\n",
    "        ci_results_col2 = calculate_confidence_intervals(subset, col2)\n",
    "\n",
    "\n",
    "        fig, ax1 = plt.subplots(figsize=(10, 6))\n",
    "\n",
    "        # Plotting the first column with confidence intervals\n",
    "        ax1.plot(ci_results_col1['Step'], ci_results_col1['mean'], label=f'{col1}', color='tab:blue')\n",
    "        ax1.fill_between(ci_results_col1['Step'], ci_results_col1['ci_low'], ci_results_col1['ci_high'], color='tab:blue', alpha=0.3)\n",
    "        ax1.set_xlabel('Step')\n",
    "        ax1.set_ylabel(col1.replace('_', ' ').title(), color='tab:blue')\n",
    "        ax1.tick_params(axis='y', labelcolor='tab:blue')\n",
    "\n",
    "        # Creating a twin y-axis for the second column\n",
    "\n",
    "        ax2 = ax1.twinx()\n",
    "        ax2.plot(ci_results_col2['Step'], ci_results_col2['mean'], label=f'{col2}', color='tab:orange', linestyle='dashed')\n",
    "        ax2.fill_between(ci_results_col2['Step'], ci_results_col2['ci_low'], ci_results_col2['ci_high'], color='tab:orange', alpha=0.3)\n",
    "        ax2.set_ylabel(col2.replace('_', ' ').title(), color='tab:orange')\n",
    "        ax2.tick_params(axis='y', labelcolor='tab:orange')\n",
    "\n",
    "        # Title and layout adjustments\n",
    "        plt.title(f'{col1.replace(\"_\", \" \").title()} and {col2.replace(\"_\", \" \").title()} Over Time for {parameter_name} Level: {value}')\n",
    "        fig.tight_layout()\n",
    "        fig.legend(loc='upper left', bbox_to_anchor=(0.1, 0.9))\n",
    "\n",
    "        plt.show()\n"
   ]
  },
  {
   "cell_type": "markdown",
   "metadata": {},
   "source": [
    "## Prosperity"
   ]
  },
  {
   "cell_type": "code",
   "execution_count": null,
   "metadata": {},
   "outputs": [],
   "source": [
    "data_prosperity= pd.read_csv('../results/vary_prosperity_results.csv')\n",
    "data_prosperity1 = pd.read_csv('../results/vary_prosperity_results.1.csv')"
   ]
  },
  {
   "cell_type": "code",
   "execution_count": null,
   "metadata": {},
   "outputs": [],
   "source": [
    "\n",
    "plot_with_confidence_intervals(data_prosperity, 'num_crimes_committed')\n",
    "plot_with_confidence_intervals(data_prosperity1, 'num_crimes_committed')"
   ]
  },
  {
   "cell_type": "code",
   "execution_count": null,
   "metadata": {},
   "outputs": [],
   "source": [
    "# Number of Crimes Committed and Number of Cops\n",
    "# Mean of number of cops and number of crimes committed over time\n",
    "plot_with_confidence_intervals_and_dual_axis(data_prosperity, 'num_crimes_committed', 'num_cops')"
   ]
  },
  {
   "cell_type": "code",
   "execution_count": null,
   "metadata": {},
   "outputs": [],
   "source": [
    "# Mean of the last iteration of number of cops for each level of prosperity\n",
    "\n",
    "grouped = data_prosperity.groupby('value') \n",
    "cop_end_iter = []\n",
    "for i in grouped:\n",
    "    cop = i[1][i[1]['Step'] == 999]['num_cops']\n",
    "    cop_end_iter.append(cop)\n",
    "\n",
    "print(int(cop_end_iter[0].mean()))\n",
    "print(int(cop_end_iter[1].mean()))\n",
    "print(int(cop_end_iter[2].mean()))\n",
    "print(int(cop_end_iter[3].mean()))\n",
    "print(int(cop_end_iter[4].mean()))\n",
    "print(int(cop_end_iter[5].mean()))"
   ]
  },
  {
   "cell_type": "code",
   "execution_count": null,
   "metadata": {},
   "outputs": [],
   "source": [
    "plot_with_confidence_intervals(data_prosperity, 'avg_crime_perception')"
   ]
  },
  {
   "cell_type": "markdown",
   "metadata": {},
   "source": [
    "## Election Frequency"
   ]
  },
  {
   "cell_type": "code",
   "execution_count": null,
   "metadata": {},
   "outputs": [],
   "source": [
    "data_elec_freq= pd.read_csv('../results/vary_election_freq_results.csv')"
   ]
  },
  {
   "cell_type": "code",
   "execution_count": null,
   "metadata": {},
   "outputs": [],
   "source": [
    "plot_with_confidence_intervals(data_elec_freq, 'num_crimes_committed')"
   ]
  }
 ],
 "metadata": {
  "kernelspec": {
   "display_name": "ABM-Notebooks-0-1-uqMzDi6o",
   "language": "python",
   "name": "python3"
  },
  "language_info": {
   "codemirror_mode": {
    "name": "ipython",
    "version": 3
   },
   "file_extension": ".py",
   "mimetype": "text/x-python",
   "name": "python",
   "nbconvert_exporter": "python",
   "pygments_lexer": "ipython3",
   "version": "3.11.7"
  }
 },
 "nbformat": 4,
 "nbformat_minor": 2
}
