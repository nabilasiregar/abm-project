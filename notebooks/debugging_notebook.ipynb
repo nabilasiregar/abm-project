{
 "cells": [
  {
   "cell_type": "code",
   "execution_count": 2,
   "metadata": {},
   "outputs": [],
   "source": [
    "import mesa\n",
    "import numpy as np\n",
    "import matplotlib.pyplot as plt\n",
    "import seaborn as sns\n"
   ]
  },
  {
   "cell_type": "markdown",
   "metadata": {},
   "source": [
    "## Agent definitions\n",
    "Need to decide whether agents wealth is public or private, this will affect expected value of trade and theft calculations\n",
    "\n",
    "TODO functionalites:\n",
    "        \n",
    "        Datacollection\n",
    "        Taxation\n",
    "        Probabilistic learning of crime rates - improve it to sliding window, if doesn't work then consider global crime rate to start\n",
    "        Improve all expected utility calculations"
   ]
  },
  {
   "cell_type": "code",
   "execution_count": 106,
   "metadata": {},
   "outputs": [],
   "source": [
    "class EconomicAgent(mesa.Agent):\n",
    "    'money-seeking agent'\n",
    "    def __init__(self, unique_id, model):\n",
    "        super().__init__(unique_id, model)\n",
    "        \n",
    "        #agent's attributes:\n",
    "        # self.wealth = (np.random.pareto(2) + 1) * 10\n",
    "        self.wealth = np.random.uniform(1, 10) #mutable\n",
    "        self.prosperity = 1 #fixed\n",
    "\n",
    "        self.criminality = 0 #mutable\n",
    "\n",
    "        self.num_trades_made = 0\n",
    "        self.num_crimes_witnessed = 0 # how many crimes has this agent seen happen\n",
    "        self.num_punishments_witnessed = 0 # how many crimes have been punished\n",
    "\n",
    "        self.has_committed_crime_this_turn = False # only keep true for 1 step of the scheduler, allows cops to arrest\n",
    "        self.is_arrested = False\n",
    "        self.time_until_released = 0 # countdown of jail sentence\n",
    "\n",
    "        self.arrest_aversion = 1 # how painful being in jail is to them\n",
    "\n",
    "    def move(self):\n",
    "        possible_steps = self.model.grid.get_neighborhood(\n",
    "            self.pos,\n",
    "            moore=True,\n",
    "            include_center=False)\n",
    "        new_position = self.random.choice(possible_steps)\n",
    "        self.model.grid.move_agent(self, new_position)\n",
    "    def choose_partner(self):\n",
    "        # TODO here we can do the logic of choosing a trading partner\n",
    "        # Possibly also add logic here that calculates the EU of trade/steal for each cellmate and returns best candidate\n",
    "        cellmates = self.model.grid.get_cell_list_contents([self.pos])\n",
    "        if len(cellmates) > 1:\n",
    "            cellmates = [x for x in cellmates if isinstance(x, EconomicAgent)]\n",
    "            cellmates = [x for x in cellmates if not x.is_arrested and not self]\n",
    "            try:\n",
    "                other = self.random.choice(cellmates)\n",
    "            except: other = None \n",
    "            print('other and own ealth')\n",
    "            print(other.wealth)\n",
    "            print(self.wealth)\n",
    "             # TODO here we can have some wealth prefernces if we want\n",
    "            return other\n",
    "    def make_trade(self, other):\n",
    "            if other is not None: #redundant?\n",
    "                # TODO add some scaling that will make the poorer person benefit less\n",
    "                print('own and other wealth before trade: ' ,self.wealth, other.wealth)\n",
    "                other.wealth += (other.wealth + self.wealth)* self.model.prosperity \n",
    "                self.wealth += (other.wealth + self.wealth)* self.model.prosperity\n",
    "                print('own and other wealth after: ' ,self.wealth, other.wealth)\n",
    "\n",
    "                self.num_trades_made +=1\n",
    "                other.num_trades_made +=1\n",
    "            \n",
    "    def steal(self, other):\n",
    "        print('own and other wealth before theft: ' ,self.wealth, other.wealth)\n",
    "        theft_value = other.wealth/2\n",
    "        self.wealth += theft_value\n",
    "        other.wealth -= theft_value\n",
    "        print('own and other wealth after theft: ' ,self.wealth, other.wealth)\n",
    "\n",
    "    def decide_action(self, other):\n",
    "        '''Decide whether to steal or trade'''\n",
    "        # TODO calculations of expected value to determine action\n",
    "        if self.num_crimes_witnessed > 0:\n",
    "            arrest_chance = self.num_punishments_witnessed/self.num_crimes_witnessed\n",
    "        else: arrest_chance = 0\n",
    "        expected_punishment_pain = self.wealth + self.arrest_aversion * self.model.sentence_length\n",
    "        theft_EU = other.wealth/2 - expected_punishment_pain*arrest_chance\n",
    "        trade_EU = (other.wealth + self.wealth)* self.model.prosperity\n",
    "        print('expected trade utility', trade_EU)\n",
    "        print('expected theft EU', theft_EU)\n",
    "        if trade_EU >= theft_EU:\n",
    "            print('decided to trade')\n",
    "            return 'trade'\n",
    "        else:\n",
    "            print('decided to steal')\n",
    "            return 'steal'\n",
    "    def vote(self):\n",
    "        #calculate value of the threat of being robbed as product of crime rate and how much you'd have stolen\n",
    "        # if that value is greater than current tax rate then vote to increase\n",
    "        if self.num_trades_made >0:\n",
    "            crime_rate = self.num_crimes_witnessed/self.num_trades_made # TODO fix this\n",
    "        else: crime_rate = 0\n",
    "        theft_threat = crime_rate* self.wealth * 0.5 #TODO this is hard coded at .5     \n",
    "        tax_burden = self.wealth*self.model.tax_rate\n",
    "        if theft_threat > tax_burden:\n",
    "            return 1\n",
    "        else:\n",
    "            return -1\n",
    "\n",
    "\n",
    "    def pay_tax(self):\n",
    "        #wealth tax, could use income tax instead? then the EU calculations are a bit harder\n",
    "        self.wealth -= self.wealth * self.model.tax_rate\n",
    "    \n",
    "    def check_for_crimes(self):\n",
    "        print('checking for crimes')\n",
    "        neighbors = self.model.grid.get_neighbors(\n",
    "            self.pos,\n",
    "            moore=True,\n",
    "            include_center=True,\n",
    "            radius=1  # Vision radius\n",
    "        )\n",
    "        for neighbor in neighbors:\n",
    "            if isinstance(neighbor, EconomicAgent) and neighbor.has_committed_crime_this_turn:\n",
    "                self.num_crimes_witnessed += 1\n",
    "                print('witnessed crime')\n",
    "\n",
    "\n",
    "    def step(self):\n",
    "        #if they're in jail they don't do anything\n",
    "        if self.is_arrested:\n",
    "            print('arrested agent turn')\n",
    "            self.time_until_released -=1\n",
    "            if self.time_until_released == 0:\n",
    "                self.is_arrested = False\n",
    "        else:\n",
    "            self.move()\n",
    "            print('agent moving')\n",
    "            other = self.choose_partner()\n",
    "            print('other', other)\n",
    "            print('othertype', type(other))\n",
    "            print('self', self)\n",
    "            print('selftype', type(self))\n",
    "            if other is not None:\n",
    "                if self.decide_action(other=other) == 'steal':\n",
    "                    self.steal(other)\n",
    "                    print('stole')\n",
    "                else: \n",
    "                    self.make_trade(other)\n",
    "                    print('traded')\n",
    "            self.check_for_crimes()\n",
    "        self.pay_tax() # or maybe you should only pay tax when you make a trade? idk\n",
    "        if self.model.steps / self.model.election_frequency == 0:\n",
    "            vote = self.vote() #returns +/- 1\n",
    "            print('voted' + vote)\n",
    "            self.model.votes += vote\n",
    "\n",
    "        "
   ]
  },
  {
   "cell_type": "code",
   "execution_count": 15,
   "metadata": {},
   "outputs": [],
   "source": [
    "class CopAgent(mesa.Agent):\n",
    "    def __init__(self, unique_id, model):\n",
    "        super().__init__(unique_id, model)\n",
    "        print('cop initialized')\n",
    "    def move(self):\n",
    "        possible_steps = self.model.grid.get_neighborhood(\n",
    "            self.pos,\n",
    "            moore=True,\n",
    "            include_center=True)\n",
    "        new_position = self.random.choice(possible_steps)\n",
    "        self.model.grid.move_agent(self, new_position)\n",
    "        \n",
    "    def look_for_crimes(self):\n",
    "        print('cop looking for crimes')\n",
    "        neighbors = self.model.grid.get_neighbors(\n",
    "            self.pos,\n",
    "            moore=True,\n",
    "            include_center=True,\n",
    "            radius=1  # Vision radius\n",
    "        )\n",
    "        for neighbor in neighbors:\n",
    "            if isinstance(neighbor, EconomicAgent) and neighbor.has_committed_crime_this_turn:\n",
    "                self.arrest(neighbor)\n",
    "    def arrest(self, criminal_agent):\n",
    "        print('arrested agent ' + str(criminal_agent.unique_id))\n",
    "        criminal_agent.wealth = 1 #TODO\n",
    "        criminal_agent.is_arrested = True\n",
    "        criminal_agent.time_until_released = self.model.sentence_length \n",
    "        #not sure if this is gonna work right, the idea is that once they're arrested and in jail, ppl are no longer observing the crime being committed\n",
    "        criminal_agent.has_committed_crime_this_turn = False\n",
    "        self.model.num_arrests_made += 1\n",
    "    def step(self):\n",
    "        self.move()\n",
    "        self.look_for_crimes()\n",
    "        "
   ]
  },
  {
   "cell_type": "markdown",
   "metadata": {},
   "source": [
    "## Model definition"
   ]
  },
  {
   "cell_type": "markdown",
   "metadata": {},
   "source": [
    "Note about the scheduler: for correct updating of crime statistics, there need to be a few turns, something like\n",
    "\n",
    "do economic activiy (trade/steal) --> then the cops look around for crimes --> then the agents update their crime stats\n",
    "\n",
    "which scheduler would this work best with?"
   ]
  },
  {
   "cell_type": "markdown",
   "metadata": {},
   "source": [
    "I think we need a custom scheduler for the voting mechanism, and then run two schedulers in the model "
   ]
  },
  {
   "cell_type": "code",
   "execution_count": 100,
   "metadata": {},
   "outputs": [],
   "source": [
    "class EconomicModel(mesa.Model):\n",
    "    def __init__(self, num_econ_agents, initial_cops=0, width=10, height=10, election_frequency = 20, sentence_length = 15):\n",
    "        super().__init__()\n",
    "        self.num_agents = num_econ_agents\n",
    "        self.num_cops = initial_cops\n",
    "        #create scheduler for movement and voting\n",
    "        self.schedule = mesa.time.RandomActivation(self)\n",
    "        #space\n",
    "        self.grid = mesa.space.MultiGrid(width, height, torus = True)\n",
    "\n",
    "        #parameters\n",
    "        self.sentence_length = sentence_length\n",
    "        self.prosperity = 0.05 #global prosperity if we want to model a dynamic economy, use as a multiplier for trade\n",
    "        self.tax_rate = 0.05 \n",
    "        self.election_frequency = election_frequency\n",
    "\n",
    "        #vars\n",
    "        self.votes = 0\n",
    "        \n",
    "        #counters, this will have to be replaced with a datacollector\n",
    "        self.num_crimes_committed = 0\n",
    "        self.num_arrests_made = 0\n",
    "        self.total_stolen = 0\n",
    "        self.total_trade_income = 0\n",
    "        self.steps = 0\n",
    "        \n",
    "        # create agents\n",
    "        for i in range(self.num_agents):\n",
    "            a = EconomicAgent(i, self)\n",
    "            x = self.random.randrange(self.grid.width)\n",
    "            y = self.random.randrange(self.grid.height)\n",
    "            self.schedule.add(a)\n",
    "            self.grid.place_agent(a, (x, y))\n",
    "        for i in range(self.num_cops):\n",
    "            c = CopAgent(i, self)\n",
    "            x = self.random.randrange(self.grid.width)\n",
    "            y = self.random.randrange(self.grid.height)\n",
    "            self.schedule.add(c)\n",
    "            self.grid.place_agent(c, (x, y))\n",
    "\n",
    "    def step(self):\n",
    "        print('next step')\n",
    "        self.steps += 1\n",
    "        self.schedule.step()\n",
    "        if self.steps / self.election_frequency - 1 == 0:        \n",
    "            if self.votes >0:\n",
    "                self.tax_rate += 0.01\n",
    "            else:\n",
    "                self.tax_rate -= 0.01        \n",
    "            # Adjusting the number of cops to voting results     \n",
    "            self.num_cops = self.tax_rate/0.01\n",
    "\n",
    "            cops = [x for x in self.agents if isinstance(x, CopAgent)]\n",
    "\n",
    "            if len(cops) < self.num_cops:\n",
    "                c = CopAgent(i, self)\n",
    "                x = self.random.randrange(self.grid.width)\n",
    "                y = self.random.randrange(self.grid.height)\n",
    "                self.schedule.add(c)        \n",
    "                self.grid.place_agent(c, (x, y))\n",
    "            else:\n",
    "                cops[0].remove()\n",
    "                self.schedule.remove(cops[0])\n"
   ]
  },
  {
   "cell_type": "markdown",
   "metadata": {},
   "source": [
    "## Running, experiments, visualizations"
   ]
  },
  {
   "cell_type": "code",
   "execution_count": 108,
   "metadata": {},
   "outputs": [
    {
     "name": "stdout",
     "output_type": "stream",
     "text": [
      "next step\n",
      "agent moving\n"
     ]
    },
    {
     "ename": "IndexError",
     "evalue": "Cannot choose from an empty sequence",
     "output_type": "error",
     "traceback": [
      "\u001b[0;31m---------------------------------------------------------------------------\u001b[0m",
      "\u001b[0;31mIndexError\u001b[0m                                Traceback (most recent call last)",
      "Cell \u001b[0;32mIn[108], line 3\u001b[0m\n\u001b[1;32m      1\u001b[0m \u001b[38;5;66;03m#model = EconomicModel(num_econ_agents=3, initial_cops=0, width=3, height = 3, election_frequency=8)\u001b[39;00m\n\u001b[1;32m      2\u001b[0m \u001b[38;5;28;01mfor\u001b[39;00m i \u001b[38;5;129;01min\u001b[39;00m \u001b[38;5;28mrange\u001b[39m(\u001b[38;5;241m10\u001b[39m):\n\u001b[0;32m----> 3\u001b[0m     \u001b[43mmodel\u001b[49m\u001b[38;5;241;43m.\u001b[39;49m\u001b[43mstep\u001b[49m\u001b[43m(\u001b[49m\u001b[43m)\u001b[49m\n",
      "Cell \u001b[0;32mIn[100], line 44\u001b[0m, in \u001b[0;36mEconomicModel.step\u001b[0;34m(self)\u001b[0m\n\u001b[1;32m     42\u001b[0m \u001b[38;5;28mprint\u001b[39m(\u001b[38;5;124m'\u001b[39m\u001b[38;5;124mnext step\u001b[39m\u001b[38;5;124m'\u001b[39m)\n\u001b[1;32m     43\u001b[0m \u001b[38;5;28mself\u001b[39m\u001b[38;5;241m.\u001b[39msteps \u001b[38;5;241m+\u001b[39m\u001b[38;5;241m=\u001b[39m \u001b[38;5;241m1\u001b[39m\n\u001b[0;32m---> 44\u001b[0m \u001b[38;5;28;43mself\u001b[39;49m\u001b[38;5;241;43m.\u001b[39;49m\u001b[43mschedule\u001b[49m\u001b[38;5;241;43m.\u001b[39;49m\u001b[43mstep\u001b[49m\u001b[43m(\u001b[49m\u001b[43m)\u001b[49m\n\u001b[1;32m     45\u001b[0m \u001b[38;5;28;01mif\u001b[39;00m \u001b[38;5;28mself\u001b[39m\u001b[38;5;241m.\u001b[39msteps \u001b[38;5;241m/\u001b[39m \u001b[38;5;28mself\u001b[39m\u001b[38;5;241m.\u001b[39melection_frequency \u001b[38;5;241m-\u001b[39m \u001b[38;5;241m1\u001b[39m \u001b[38;5;241m==\u001b[39m \u001b[38;5;241m0\u001b[39m:        \n\u001b[1;32m     46\u001b[0m     \u001b[38;5;28;01mif\u001b[39;00m \u001b[38;5;28mself\u001b[39m\u001b[38;5;241m.\u001b[39mvotes \u001b[38;5;241m>\u001b[39m\u001b[38;5;241m0\u001b[39m:\n",
      "File \u001b[0;32m~/.local/share/virtualenvs/ABM-Notebooks-0-1-uqMzDi6o/lib/python3.11/site-packages/mesa/time.py:120\u001b[0m, in \u001b[0;36mBaseScheduler._wrapped_step\u001b[0;34m(self)\u001b[0m\n\u001b[1;32m    118\u001b[0m \u001b[38;5;28;01mdef\u001b[39;00m \u001b[38;5;21m_wrapped_step\u001b[39m(\u001b[38;5;28mself\u001b[39m):\n\u001b[1;32m    119\u001b[0m \u001b[38;5;250m    \u001b[39m\u001b[38;5;124;03m\"\"\"Wrapper for the step method to include time and step updating.\"\"\"\u001b[39;00m\n\u001b[0;32m--> 120\u001b[0m     \u001b[38;5;28;43mself\u001b[39;49m\u001b[38;5;241;43m.\u001b[39;49m\u001b[43m_original_step\u001b[49m\u001b[43m(\u001b[49m\u001b[43m)\u001b[49m\n\u001b[1;32m    121\u001b[0m     \u001b[38;5;28mself\u001b[39m\u001b[38;5;241m.\u001b[39mmodel\u001b[38;5;241m.\u001b[39m_advance_time()\n",
      "File \u001b[0;32m~/.local/share/virtualenvs/ABM-Notebooks-0-1-uqMzDi6o/lib/python3.11/site-packages/mesa/time.py:176\u001b[0m, in \u001b[0;36mRandomActivation.step\u001b[0;34m(self)\u001b[0m\n\u001b[1;32m    171\u001b[0m \u001b[38;5;28;01mdef\u001b[39;00m \u001b[38;5;21mstep\u001b[39m(\u001b[38;5;28mself\u001b[39m) \u001b[38;5;241m-\u001b[39m\u001b[38;5;241m>\u001b[39m \u001b[38;5;28;01mNone\u001b[39;00m:\n\u001b[1;32m    172\u001b[0m \u001b[38;5;250m    \u001b[39m\u001b[38;5;124;03m\"\"\"Executes the step of all agents, one at a time, in\u001b[39;00m\n\u001b[1;32m    173\u001b[0m \u001b[38;5;124;03m    random order.\u001b[39;00m\n\u001b[1;32m    174\u001b[0m \n\u001b[1;32m    175\u001b[0m \u001b[38;5;124;03m    \"\"\"\u001b[39;00m\n\u001b[0;32m--> 176\u001b[0m     \u001b[38;5;28;43mself\u001b[39;49m\u001b[38;5;241;43m.\u001b[39;49m\u001b[43mdo_each\u001b[49m\u001b[43m(\u001b[49m\u001b[38;5;124;43m\"\u001b[39;49m\u001b[38;5;124;43mstep\u001b[39;49m\u001b[38;5;124;43m\"\u001b[39;49m\u001b[43m,\u001b[49m\u001b[43m \u001b[49m\u001b[43mshuffle\u001b[49m\u001b[38;5;241;43m=\u001b[39;49m\u001b[38;5;28;43;01mTrue\u001b[39;49;00m\u001b[43m)\u001b[49m\n\u001b[1;32m    177\u001b[0m     \u001b[38;5;28mself\u001b[39m\u001b[38;5;241m.\u001b[39msteps \u001b[38;5;241m+\u001b[39m\u001b[38;5;241m=\u001b[39m \u001b[38;5;241m1\u001b[39m\n\u001b[1;32m    178\u001b[0m     \u001b[38;5;28mself\u001b[39m\u001b[38;5;241m.\u001b[39mtime \u001b[38;5;241m+\u001b[39m\u001b[38;5;241m=\u001b[39m \u001b[38;5;241m1\u001b[39m\n",
      "File \u001b[0;32m~/.local/share/virtualenvs/ABM-Notebooks-0-1-uqMzDi6o/lib/python3.11/site-packages/mesa/time.py:152\u001b[0m, in \u001b[0;36mBaseScheduler.do_each\u001b[0;34m(self, method, shuffle)\u001b[0m\n\u001b[1;32m    150\u001b[0m \u001b[38;5;28;01mif\u001b[39;00m shuffle:\n\u001b[1;32m    151\u001b[0m     \u001b[38;5;28mself\u001b[39m\u001b[38;5;241m.\u001b[39m_agents\u001b[38;5;241m.\u001b[39mshuffle(inplace\u001b[38;5;241m=\u001b[39m\u001b[38;5;28;01mTrue\u001b[39;00m)\n\u001b[0;32m--> 152\u001b[0m \u001b[38;5;28;43mself\u001b[39;49m\u001b[38;5;241;43m.\u001b[39;49m\u001b[43m_agents\u001b[49m\u001b[38;5;241;43m.\u001b[39;49m\u001b[43mdo\u001b[49m\u001b[43m(\u001b[49m\u001b[43mmethod\u001b[49m\u001b[43m)\u001b[49m\n",
      "File \u001b[0;32m~/.local/share/virtualenvs/ABM-Notebooks-0-1-uqMzDi6o/lib/python3.11/site-packages/mesa/agent.py:245\u001b[0m, in \u001b[0;36mAgentSet.do\u001b[0;34m(self, method_name, return_results, *args, **kwargs)\u001b[0m\n\u001b[1;32m    232\u001b[0m \u001b[38;5;250m\u001b[39m\u001b[38;5;124;03m\"\"\"\u001b[39;00m\n\u001b[1;32m    233\u001b[0m \u001b[38;5;124;03mInvoke a method on each agent in the AgentSet.\u001b[39;00m\n\u001b[1;32m    234\u001b[0m \n\u001b[0;32m   (...)\u001b[0m\n\u001b[1;32m    242\u001b[0m \u001b[38;5;124;03m    AgentSet | list[Any]: The results of the method calls if return_results is True, otherwise the AgentSet itself.\u001b[39;00m\n\u001b[1;32m    243\u001b[0m \u001b[38;5;124;03m\"\"\"\u001b[39;00m\n\u001b[1;32m    244\u001b[0m \u001b[38;5;66;03m# we iterate over the actual weakref keys and check if weakref is alive before calling the method\u001b[39;00m\n\u001b[0;32m--> 245\u001b[0m res \u001b[38;5;241m=\u001b[39m \u001b[43m[\u001b[49m\n\u001b[1;32m    246\u001b[0m \u001b[43m    \u001b[49m\u001b[38;5;28;43mgetattr\u001b[39;49m\u001b[43m(\u001b[49m\u001b[43magent\u001b[49m\u001b[43m,\u001b[49m\u001b[43m \u001b[49m\u001b[43mmethod_name\u001b[49m\u001b[43m)\u001b[49m\u001b[43m(\u001b[49m\u001b[38;5;241;43m*\u001b[39;49m\u001b[43margs\u001b[49m\u001b[43m,\u001b[49m\u001b[43m \u001b[49m\u001b[38;5;241;43m*\u001b[39;49m\u001b[38;5;241;43m*\u001b[39;49m\u001b[43mkwargs\u001b[49m\u001b[43m)\u001b[49m\n\u001b[1;32m    247\u001b[0m \u001b[43m    \u001b[49m\u001b[38;5;28;43;01mfor\u001b[39;49;00m\u001b[43m \u001b[49m\u001b[43magentref\u001b[49m\u001b[43m \u001b[49m\u001b[38;5;129;43;01min\u001b[39;49;00m\u001b[43m \u001b[49m\u001b[38;5;28;43mself\u001b[39;49m\u001b[38;5;241;43m.\u001b[39;49m\u001b[43m_agents\u001b[49m\u001b[38;5;241;43m.\u001b[39;49m\u001b[43mkeyrefs\u001b[49m\u001b[43m(\u001b[49m\u001b[43m)\u001b[49m\n\u001b[1;32m    248\u001b[0m \u001b[43m    \u001b[49m\u001b[38;5;28;43;01mif\u001b[39;49;00m\u001b[43m \u001b[49m\u001b[43m(\u001b[49m\u001b[43magent\u001b[49m\u001b[43m \u001b[49m\u001b[38;5;241;43m:=\u001b[39;49m\u001b[43m \u001b[49m\u001b[43magentref\u001b[49m\u001b[43m(\u001b[49m\u001b[43m)\u001b[49m\u001b[43m)\u001b[49m\u001b[43m \u001b[49m\u001b[38;5;129;43;01mis\u001b[39;49;00m\u001b[43m \u001b[49m\u001b[38;5;129;43;01mnot\u001b[39;49;00m\u001b[43m \u001b[49m\u001b[38;5;28;43;01mNone\u001b[39;49;00m\n\u001b[1;32m    249\u001b[0m \u001b[43m\u001b[49m\u001b[43m]\u001b[49m\n\u001b[1;32m    251\u001b[0m \u001b[38;5;28;01mreturn\u001b[39;00m res \u001b[38;5;28;01mif\u001b[39;00m return_results \u001b[38;5;28;01melse\u001b[39;00m \u001b[38;5;28mself\u001b[39m\n",
      "File \u001b[0;32m~/.local/share/virtualenvs/ABM-Notebooks-0-1-uqMzDi6o/lib/python3.11/site-packages/mesa/agent.py:246\u001b[0m, in \u001b[0;36m<listcomp>\u001b[0;34m(.0)\u001b[0m\n\u001b[1;32m    232\u001b[0m \u001b[38;5;250m\u001b[39m\u001b[38;5;124;03m\"\"\"\u001b[39;00m\n\u001b[1;32m    233\u001b[0m \u001b[38;5;124;03mInvoke a method on each agent in the AgentSet.\u001b[39;00m\n\u001b[1;32m    234\u001b[0m \n\u001b[0;32m   (...)\u001b[0m\n\u001b[1;32m    242\u001b[0m \u001b[38;5;124;03m    AgentSet | list[Any]: The results of the method calls if return_results is True, otherwise the AgentSet itself.\u001b[39;00m\n\u001b[1;32m    243\u001b[0m \u001b[38;5;124;03m\"\"\"\u001b[39;00m\n\u001b[1;32m    244\u001b[0m \u001b[38;5;66;03m# we iterate over the actual weakref keys and check if weakref is alive before calling the method\u001b[39;00m\n\u001b[1;32m    245\u001b[0m res \u001b[38;5;241m=\u001b[39m [\n\u001b[0;32m--> 246\u001b[0m     \u001b[38;5;28;43mgetattr\u001b[39;49m\u001b[43m(\u001b[49m\u001b[43magent\u001b[49m\u001b[43m,\u001b[49m\u001b[43m \u001b[49m\u001b[43mmethod_name\u001b[49m\u001b[43m)\u001b[49m\u001b[43m(\u001b[49m\u001b[38;5;241;43m*\u001b[39;49m\u001b[43margs\u001b[49m\u001b[43m,\u001b[49m\u001b[43m \u001b[49m\u001b[38;5;241;43m*\u001b[39;49m\u001b[38;5;241;43m*\u001b[39;49m\u001b[43mkwargs\u001b[49m\u001b[43m)\u001b[49m\n\u001b[1;32m    247\u001b[0m     \u001b[38;5;28;01mfor\u001b[39;00m agentref \u001b[38;5;129;01min\u001b[39;00m \u001b[38;5;28mself\u001b[39m\u001b[38;5;241m.\u001b[39m_agents\u001b[38;5;241m.\u001b[39mkeyrefs()\n\u001b[1;32m    248\u001b[0m     \u001b[38;5;28;01mif\u001b[39;00m (agent \u001b[38;5;241m:=\u001b[39m agentref()) \u001b[38;5;129;01mis\u001b[39;00m \u001b[38;5;129;01mnot\u001b[39;00m \u001b[38;5;28;01mNone\u001b[39;00m\n\u001b[1;32m    249\u001b[0m ]\n\u001b[1;32m    251\u001b[0m \u001b[38;5;28;01mreturn\u001b[39;00m res \u001b[38;5;28;01mif\u001b[39;00m return_results \u001b[38;5;28;01melse\u001b[39;00m \u001b[38;5;28mself\u001b[39m\n",
      "Cell \u001b[0;32mIn[106], line 121\u001b[0m, in \u001b[0;36mEconomicAgent.step\u001b[0;34m(self)\u001b[0m\n\u001b[1;32m    119\u001b[0m \u001b[38;5;28mself\u001b[39m\u001b[38;5;241m.\u001b[39mmove()\n\u001b[1;32m    120\u001b[0m \u001b[38;5;28mprint\u001b[39m(\u001b[38;5;124m'\u001b[39m\u001b[38;5;124magent moving\u001b[39m\u001b[38;5;124m'\u001b[39m)\n\u001b[0;32m--> 121\u001b[0m other \u001b[38;5;241m=\u001b[39m \u001b[38;5;28;43mself\u001b[39;49m\u001b[38;5;241;43m.\u001b[39;49m\u001b[43mchoose_partner\u001b[49m\u001b[43m(\u001b[49m\u001b[43m)\u001b[49m\n\u001b[1;32m    122\u001b[0m \u001b[38;5;28mprint\u001b[39m(\u001b[38;5;124m'\u001b[39m\u001b[38;5;124mother\u001b[39m\u001b[38;5;124m'\u001b[39m, other)\n\u001b[1;32m    123\u001b[0m \u001b[38;5;28mprint\u001b[39m(\u001b[38;5;124m'\u001b[39m\u001b[38;5;124mothertype\u001b[39m\u001b[38;5;124m'\u001b[39m, \u001b[38;5;28mtype\u001b[39m(other))\n",
      "Cell \u001b[0;32mIn[106], line 37\u001b[0m, in \u001b[0;36mEconomicAgent.choose_partner\u001b[0;34m(self)\u001b[0m\n\u001b[1;32m     35\u001b[0m cellmates \u001b[38;5;241m=\u001b[39m [x \u001b[38;5;28;01mfor\u001b[39;00m x \u001b[38;5;129;01min\u001b[39;00m cellmates \u001b[38;5;28;01mif\u001b[39;00m \u001b[38;5;28misinstance\u001b[39m(x, EconomicAgent)]\n\u001b[1;32m     36\u001b[0m cellmates \u001b[38;5;241m=\u001b[39m [x \u001b[38;5;28;01mfor\u001b[39;00m x \u001b[38;5;129;01min\u001b[39;00m cellmates \u001b[38;5;28;01mif\u001b[39;00m \u001b[38;5;129;01mnot\u001b[39;00m x\u001b[38;5;241m.\u001b[39mis_arrested \u001b[38;5;129;01mand\u001b[39;00m \u001b[38;5;129;01mnot\u001b[39;00m \u001b[38;5;28mself\u001b[39m]\n\u001b[0;32m---> 37\u001b[0m other \u001b[38;5;241m=\u001b[39m \u001b[38;5;28;43mself\u001b[39;49m\u001b[38;5;241;43m.\u001b[39;49m\u001b[43mrandom\u001b[49m\u001b[38;5;241;43m.\u001b[39;49m\u001b[43mchoice\u001b[49m\u001b[43m(\u001b[49m\u001b[43mcellmates\u001b[49m\u001b[43m)\u001b[49m\n\u001b[1;32m     38\u001b[0m \u001b[38;5;28mprint\u001b[39m(\u001b[38;5;124m'\u001b[39m\u001b[38;5;124mother and own ealth\u001b[39m\u001b[38;5;124m'\u001b[39m)\n\u001b[1;32m     39\u001b[0m \u001b[38;5;28mprint\u001b[39m(other\u001b[38;5;241m.\u001b[39mwealth)\n",
      "File \u001b[0;32m~/miniconda3/lib/python3.11/random.py:373\u001b[0m, in \u001b[0;36mRandom.choice\u001b[0;34m(self, seq)\u001b[0m\n\u001b[1;32m    370\u001b[0m \u001b[38;5;66;03m# As an accommodation for NumPy, we don't use \"if not seq\"\u001b[39;00m\n\u001b[1;32m    371\u001b[0m \u001b[38;5;66;03m# because bool(numpy.array()) raises a ValueError.\u001b[39;00m\n\u001b[1;32m    372\u001b[0m \u001b[38;5;28;01mif\u001b[39;00m \u001b[38;5;129;01mnot\u001b[39;00m \u001b[38;5;28mlen\u001b[39m(seq):\n\u001b[0;32m--> 373\u001b[0m     \u001b[38;5;28;01mraise\u001b[39;00m \u001b[38;5;167;01mIndexError\u001b[39;00m(\u001b[38;5;124m'\u001b[39m\u001b[38;5;124mCannot choose from an empty sequence\u001b[39m\u001b[38;5;124m'\u001b[39m)\n\u001b[1;32m    374\u001b[0m \u001b[38;5;28;01mreturn\u001b[39;00m seq[\u001b[38;5;28mself\u001b[39m\u001b[38;5;241m.\u001b[39m_randbelow(\u001b[38;5;28mlen\u001b[39m(seq))]\n",
      "\u001b[0;31mIndexError\u001b[0m: Cannot choose from an empty sequence"
     ]
    }
   ],
   "source": [
    "#model = EconomicModel(num_econ_agents=3, initial_cops=0, width=3, height = 3, election_frequency=8)\n",
    "for i in range(10):\n",
    "    model.step()\n"
   ]
  },
  {
   "cell_type": "code",
   "execution_count": 86,
   "metadata": {},
   "outputs": [
    {
     "name": "stdout",
     "output_type": "stream",
     "text": [
      "9.81741854185489e-07\n",
      "2.5430583629665566e-08\n",
      "1.7109714178553345e-07\n"
     ]
    },
    {
     "ename": "AttributeError",
     "evalue": "'CopAgent' object has no attribute 'wealth'",
     "output_type": "error",
     "traceback": [
      "\u001b[0;31m---------------------------------------------------------------------------\u001b[0m",
      "\u001b[0;31mAttributeError\u001b[0m                            Traceback (most recent call last)",
      "Cell \u001b[0;32mIn[86], line 2\u001b[0m\n\u001b[1;32m      1\u001b[0m \u001b[38;5;28;01mfor\u001b[39;00m agent \u001b[38;5;129;01min\u001b[39;00m model\u001b[38;5;241m.\u001b[39magents:\n\u001b[0;32m----> 2\u001b[0m     \u001b[38;5;28mprint\u001b[39m(\u001b[43magent\u001b[49m\u001b[38;5;241;43m.\u001b[39;49m\u001b[43mwealth\u001b[49m)\n",
      "\u001b[0;31mAttributeError\u001b[0m: 'CopAgent' object has no attribute 'wealth'"
     ]
    }
   ],
   "source": [
    "for agent in model.agents:\n",
    "    print(agent.wealth)"
   ]
  },
  {
   "cell_type": "code",
   "execution_count": 7,
   "metadata": {},
   "outputs": [
    {
     "data": {
      "text/plain": [
       "[Text(0.5, 1.0, 'Number of agents on each cell of the grid')]"
      ]
     },
     "execution_count": 7,
     "metadata": {},
     "output_type": "execute_result"
    },
    {
     "data": {
      "image/png": "[encoded data removed]",
      "text/plain": [
       "<Figure size 400x400 with 1 Axes>"
      ]
     },
     "metadata": {},
     "output_type": "display_data"
    }
   ],
   "source": [
    "agent_counts = np.zeros((model.grid.width, model.grid.height))\n",
    "for cell_content, (x, y) in model.grid.coord_iter():\n",
    "    agent_count = len(cell_content)\n",
    "    agent_counts[x][y] = agent_count\n",
    "# Plot using seaborn, with a size of 5x5\n",
    "g = sns.heatmap(agent_counts, cmap=\"viridis\", annot=True, cbar=False, square=True)\n",
    "g.figure.set_size_inches(4, 4)\n",
    "g.set(title=\"Number of agents on each cell of the grid\")"
   ]
  }
 ],
 "metadata": {
  "kernelspec": {
   "display_name": "ABM-Notebooks-0-1-uqMzDi6o",
   "language": "python",
   "name": "python3"
  },
  "language_info": {
   "codemirror_mode": {
    "name": "ipython",
    "version": 3
   },
   "file_extension": ".py",
   "mimetype": "text/x-python",
   "name": "python",
   "nbconvert_exporter": "python",
   "pygments_lexer": "ipython3",
   "version": "3.11.5"
  }
 },
 "nbformat": 4,
 "nbformat_minor": 2
}
