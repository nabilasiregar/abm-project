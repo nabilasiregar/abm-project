{
 "cells": [
  {
   "cell_type": "code",
   "execution_count": null,
   "metadata": {},
   "outputs": [],
   "source": [
    "import sys\n",
    "sys.path.append('../src/')\n",
    "sys.path.append('../results/')\n",
    "import numpy as np\n",
    "import pandas as pd\n",
    "import matplotlib.pyplot as plt\n",
    "from SALib.analyze import sobol\n",
    "\n",
    "from src.plot_Global import plot_index\n",
    "\n"
   ]
  },
  {
   "cell_type": "code",
   "execution_count": null,
   "metadata": {},
   "outputs": [],
   "source": [
    "data = pd.read_csv('../results/global_sensitivity_analysis_model_results.csv')"
   ]
  },
  {
   "cell_type": "code",
   "execution_count": null,
   "metadata": {},
   "outputs": [],
   "source": [
    "problem = {\n",
    "        'num_vars': 3,\n",
    "        'names': ['sentence_length', 'interaction_memory', 'risk_aversion_std'],\n",
    "        'bounds': [[5, 25], [10, 100], [0.1, 0.99]]\n",
    "}"
   ]
  },
  {
   "cell_type": "markdown",
   "metadata": {},
   "source": [
    "## Total wealth"
   ]
  },
  {
   "cell_type": "code",
   "execution_count": null,
   "metadata": {},
   "outputs": [],
   "source": [
    "#print(data.columns)\n",
    "    \n",
    "S_i_wealth = sobol.analyze(problem, data['total_wealth'].values, print_to_console=True, calc_second_order=True)\n",
    "\n",
    "# First order\n",
    "plot_index(S_i_wealth, problem['names'], '1', 'First order sensitivity')\n",
    "plt.show()\n",
    "\n",
    "# Second order\n",
    "plot_index(S_i_wealth, problem['names'], '2', 'Second order sensitivity')    \n",
    "plt.show()\n",
    "   \n",
    "# Total order\n",
    "plot_index(S_i_wealth, problem['names'], 'T', 'Total order sensitivity')\n",
    "plt.show()\n"
   ]
  },
  {
   "cell_type": "markdown",
   "metadata": {},
   "source": [
    "## Number of cops"
   ]
  },
  {
   "cell_type": "code",
   "execution_count": null,
   "metadata": {},
   "outputs": [],
   "source": [
    "S_i_cops = sobol.analyze(problem, data['num_cops'].values, print_to_console=True, calc_second_order=True)\n",
    "\n",
    "# First order\n",
    "plot_index(S_i_cops, problem['names'], '1', 'First order sensitivity')\n",
    "plt.show()\n",
    "\n",
    "# Second order\n",
    "plot_index(S_i_cops, problem['names'], '2', 'Second order sensitivity')    \n",
    "plt.show()\n",
    "   \n",
    "# Total order\n",
    "plot_index(S_i_cops, problem['names'], 'T', 'Total order sensitivity')\n",
    "plt.show()"
   ]
  },
  {
   "cell_type": "markdown",
   "metadata": {},
   "source": [
    "## Number of crimes"
   ]
  },
  {
   "cell_type": "code",
   "execution_count": null,
   "metadata": {},
   "outputs": [],
   "source": [
    "S_i_crimes = sobol.analyze(problem, data['num_cops'].values, print_to_console=True, calc_second_order=True)\n",
    "\n",
    "# First order\n",
    "plot_index(S_i_crimes, problem['names'], '1', 'First order sensitivity')\n",
    "plt.show()\n",
    "\n",
    "# Second order\n",
    "plot_index(S_i_crimes, problem['names'], '2', 'Second order sensitivity')    \n",
    "plt.show()\n",
    "   \n",
    "# Total order\n",
    "plot_index(S_i_crimes, problem['names'], 'T', 'Total order sensitivity')\n",
    "plt.show()"
   ]
  },
  {
   "cell_type": "markdown",
   "metadata": {},
   "source": []
  }
 ],
 "metadata": {
  "kernelspec": {
   "display_name": "Python 3",
   "language": "python",
   "name": "python3"
  },
  "language_info": {
   "codemirror_mode": {
    "name": "ipython",
    "version": 3
   },
   "file_extension": ".py",
   "mimetype": "text/x-python",
   "name": "python",
   "nbconvert_exporter": "python",
   "pygments_lexer": "ipython3",
   "version": "3.11.7"
  }
 },
 "nbformat": 4,
 "nbformat_minor": 2
}
