{
 "cells": [
  {
   "cell_type": "code",
   "execution_count": 10,
   "metadata": {},
   "outputs": [],
   "source": [
    "import mesa\n",
    "import numpy as np\n",
    "import matplotlib.pyplot as plt"
   ]
  },
  {
   "cell_type": "markdown",
   "metadata": {},
   "source": [
    "## Agent definitions"
   ]
  },
  {
   "cell_type": "code",
   "execution_count": 19,
   "metadata": {},
   "outputs": [
    {
     "data": {
      "text/plain": [
       "' TODO functionalites:\\n        Taxation\\n        Voting\\n        Crimes\\n        Policing\\n        Probabilistic learning of crime rates\\n        Functions for determining optimal actions based on expected utility\\n\\n'"
      ]
     },
     "execution_count": 19,
     "metadata": {},
     "output_type": "execute_result"
    }
   ],
   "source": [
    "class EconomicAgent(mesa.Agent):\n",
    "    'money-seeking agent'\n",
    "    def __init__(self, id, model):\n",
    "        super().__init__(id, model)\n",
    "        \n",
    "        #agent's attributes:\n",
    "        # self.wealth = (np.random.pareto(2) + 1) * 10\n",
    "        self.wealth = 10 #mutable\n",
    "        self.prosperity = 1 #fixed\n",
    "\n",
    "        self.criminality = 0 #mutable\n",
    "        self.criminality_tendency = 0  #fixed\n",
    "    def step(self):\n",
    "        print(self.id)\n",
    "    \n",
    "# ''' TODO functionalites:\n",
    "#         Taxation\n",
    "#         Voting\n",
    "#         Crimes\n",
    "#         Policing\n",
    "#         Probabilistic learning of crime rates\n",
    "#         Functions for determining optimal actions based on expected utility\n",
    "\n",
    "# '''"
   ]
  },
  {
   "cell_type": "markdown",
   "metadata": {},
   "source": [
    "## Model definition"
   ]
  },
  {
   "cell_type": "code",
   "execution_count": 20,
   "metadata": {},
   "outputs": [],
   "source": [
    "class EconomicModel(mesa.Model):\n",
    "    def _init__(self, N):\n",
    "        super().__init__()\n",
    "        self.num_agents = N\n",
    "        #create scheduler\n",
    "        self.schedule = mesa.time.RandomActivation(self)\n",
    "\n",
    "        # create agents\n",
    "        for i in range(self.num_agents):\n",
    "            a = EconomicAgent(i, self)\n",
    "            self.schedule.add(a)\n",
    "    def step(self):\n",
    "        self.schedule.step()\n",
    "    \n",
    "    \n"
   ]
  },
  {
   "cell_type": "markdown",
   "metadata": {},
   "source": [
    "## Running, experiments"
   ]
  },
  {
   "cell_type": "code",
   "execution_count": 18,
   "metadata": {},
   "outputs": [
    {
     "ename": "AttributeError",
     "evalue": "'NoneType' object has no attribute 'step'",
     "output_type": "error",
     "traceback": [
      "\u001b[0;31m---------------------------------------------------------------------------\u001b[0m",
      "\u001b[0;31mAttributeError\u001b[0m                            Traceback (most recent call last)",
      "Cell \u001b[0;32mIn[18], line 2\u001b[0m\n\u001b[1;32m      1\u001b[0m starter_model \u001b[38;5;241m=\u001b[39m EconomicModel(\u001b[38;5;241m10\u001b[39m)\n\u001b[0;32m----> 2\u001b[0m \u001b[43mstarter_model\u001b[49m\u001b[38;5;241;43m.\u001b[39;49m\u001b[43mstep\u001b[49m\u001b[43m(\u001b[49m\u001b[43m)\u001b[49m\n",
      "Cell \u001b[0;32mIn[17], line 13\u001b[0m, in \u001b[0;36mEconomicModel.step\u001b[0;34m(self)\u001b[0m\n\u001b[1;32m     12\u001b[0m \u001b[38;5;28;01mdef\u001b[39;00m \u001b[38;5;21mstep\u001b[39m(\u001b[38;5;28mself\u001b[39m):\n\u001b[0;32m---> 13\u001b[0m     \u001b[38;5;28;43mself\u001b[39;49m\u001b[38;5;241;43m.\u001b[39;49m\u001b[43mschedule\u001b[49m\u001b[38;5;241;43m.\u001b[39;49m\u001b[43mstep\u001b[49m()\n",
      "\u001b[0;31mAttributeError\u001b[0m: 'NoneType' object has no attribute 'step'"
     ]
    }
   ],
   "source": [
    "starter_model = EconomicModel(10)\n",
    "starter_model.step()\n"
   ]
  }
 ],
 "metadata": {
  "kernelspec": {
   "display_name": "ABM-Notebooks-0-1-uqMzDi6o",
   "language": "python",
   "name": "python3"
  },
  "language_info": {
   "codemirror_mode": {
    "name": "ipython",
    "version": 3
   },
   "file_extension": ".py",
   "mimetype": "text/x-python",
   "name": "python",
   "nbconvert_exporter": "python",
   "pygments_lexer": "ipython3",
   "version": "3.11.5"
  }
 },
 "nbformat": 4,
 "nbformat_minor": 2
}
