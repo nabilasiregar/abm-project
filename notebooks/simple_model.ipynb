{
 "cells": [
  {
   "cell_type": "code",
   "execution_count": 50,
   "metadata": {},
   "outputs": [],
   "source": [
    "import mesa\n",
    "import numpy as np\n",
    "import matplotlib.pyplot as plt\n",
    "import seaborn as sns\n"
   ]
  },
  {
   "cell_type": "markdown",
   "metadata": {},
   "source": [
    "## Agent definitions\n",
    "Need to decide whether agents wealth is public or private, this will affect expected value of trade and theft calculations\n",
    "\n",
    "TODO functionalites:\n",
    "        \n",
    "        Datacollection\n",
    "        Taxation\n",
    "        Probabilistic learning of crime rates - improve it to sliding window, if doesn't work then consider global crime rate to start\n",
    "        Improve all expected utility calculations"
   ]
  },
  {
   "cell_type": "code",
   "execution_count": 38,
   "metadata": {},
   "outputs": [],
   "source": [
    "class EconomicAgent(mesa.Agent):\n",
    "    'money-seeking agent'\n",
    "    def __init__(self, unique_id, model):\n",
    "        super().__init__(unique_id, model)\n",
    "        \n",
    "        #agent's attributes:\n",
    "        # self.wealth = (np.random.pareto(2) + 1) * 10\n",
    "        self.wealth = 10 #mutable\n",
    "        self.prosperity = 1 #fixed\n",
    "\n",
    "        self.criminality = 0 #mutable\n",
    "\n",
    "        self.num_trades_made = 0\n",
    "        self.num_crimes_witnessed = 0 # how many crimes has this agent seen happen\n",
    "        self.num_punishments_witnessed = 0 # how many crimes have been punished\n",
    "\n",
    "        self.has_commited_crime_this_turn = False # only keep true for 1 step of the scheduler, allows cops to arrest\n",
    "        self.is_arrested = False\n",
    "        self.time_until_released = 0 # countdown of jail sentence\n",
    "\n",
    "        self.arrest_aversion = 0 # how painful being in jail is to them\n",
    "\n",
    "    def move(self):\n",
    "        possible_steps = self.model.grid.get_neighborhood(\n",
    "            self.pos,\n",
    "            moore=True,\n",
    "            include_center=False)\n",
    "        new_position = self.random.choice(possible_steps)\n",
    "        self.model.grid.move_agent(self, new_position)\n",
    "\n",
    "    def make_trade(self):\n",
    "        cellmates = self.model.grid.get_cell_list_contents([self.pos])\n",
    "        if len(cellmates) > 0:\n",
    "            other = self.random.choice(cellmates)\n",
    "            #placeholder, trade logic TODO\n",
    "            other.wealth += (other.wealth + self.wealth)* self.model.prosperity\n",
    "            self.wealth += 1\n",
    "            self.num_trades_made +=1\n",
    "            other.num_trades_made +=1\n",
    "            \n",
    "    def steal(self):\n",
    "        cellmates = self.model.grid.get_cell_list_contents([self.pos])\n",
    "        if len(cellmates) > 0:\n",
    "            other = self.random.choice(cellmates)\n",
    "            #placeholder, stealing logic TODO especially appropriate scaling\n",
    "            theft_value = other.wealth/2\n",
    "            self.wealth += theft_value\n",
    "            other.wealth -= theft_value\n",
    "    def decide_action(self):\n",
    "        '''Decide whether to steal or trade'''\n",
    "        # TODO calculations of expected value to determine action\n",
    "        arrest_chance = self.num_punishments_witnessed/self.num_crimes_witnessed\n",
    "        expected_punishment_pain = self.arrest_aversion * self.model.sentence_length\n",
    "        theft_EU = \n",
    "        if np.random.random() >0.5:\n",
    "            return 'trade'\n",
    "        else:\n",
    "            return 'steal'\n",
    "    def vote(self):\n",
    "        'cast a vote on whether cops are needed'\n",
    "        #calculate value of the threat of being robbed as product of crime rate and how much you'd have stolen\n",
    "        # if that value is greater than current tax rate then vote to increase\n",
    "        crime_rate = self.num_crimes_witnessed/self.num_trades_made\n",
    "        theft_threat = crime_rate* self.wealth * 0.5 #TODO this is hard coded at .5     \n",
    "        tax_burden = self.wealth*self.model.tax_rate\n",
    "        if theft_threat > tax_burden:\n",
    "            return 1\n",
    "        else:\n",
    "            return -1\n",
    "\n",
    "\n",
    "    def pay_tax(self):\n",
    "        #wealth tax, could use income tax instead? then the EU calculations are a bit harder\n",
    "        self.wealth -= self.wealth * self.model.tax_rate\n",
    "    \n",
    "    def check_for_crimes(self):\n",
    "        neighbors = self.model.grid.get_neighbors(\n",
    "            self.pos,\n",
    "            moore=True,\n",
    "            include_center=True,\n",
    "            radius=1  # Vision radius\n",
    "        )\n",
    "        for neighbor in neighbors:\n",
    "            if isinstance(neighbor, EconomicAgent) and neighbor.has_committed_crime_this_turn:\n",
    "                self.num_crimes_witnessed += 1\n",
    "\n",
    "\n",
    "    def step(self):\n",
    "        #if they're in jail they don't do anything\n",
    "        if self.is_arrested:\n",
    "            self.time_until_released -=1\n",
    "            if self.time_until_released == 0:\n",
    "                self.is_arrested = False\n",
    "        else:\n",
    "            self.move()\n",
    "            if self.decide_action() == 'steal':\n",
    "                self.steal()\n",
    "            else: self.trade()\n",
    "            self.check_for_crimes()\n",
    "        self.pay_tax() # or maybe you should only pay tax when you make a trade? idk\n",
    "\n",
    "    def advance(self):\n",
    "        vote = self.vote()\n",
    "        self.model.votes += vote\n",
    "        "
   ]
  },
  {
   "cell_type": "code",
   "execution_count": 58,
   "metadata": {},
   "outputs": [],
   "source": [
    "class CopAgent(mesa.Agent):\n",
    "    def __init__(self, unique_id, model):\n",
    "        super().__init__(unique_id, model)\n",
    "        \n",
    "    def move(self):\n",
    "        possible_steps = self.model.grid.get_neighborhood(\n",
    "            self.pos,\n",
    "            moore=True,\n",
    "            include_center=True)\n",
    "        new_position = self.random.choice(possible_steps)\n",
    "        self.model.grid.move_agent(self, new_position)\n",
    "        \n",
    "    def look_for_crimes(self):\n",
    "        neighbors = self.model.grid.get_neighbors(\n",
    "            self.pos,\n",
    "            moore=True,\n",
    "            include_center=False,\n",
    "            radius=1  # Vision radius\n",
    "        )\n",
    "        for neighbor in neighbors:\n",
    "            if isinstance(neighbor, EconomicAgent) and neighbor.has_committed_crime_this_turn:\n",
    "                self.arrest(neighbor)\n",
    "    def arrest(self, criminal_agent):\n",
    "        print('arrested agent ' + str(criminal_agent.unique_id))\n",
    "        criminal_agent.wealth = 0\n",
    "        criminal_agent.is_arrested = True\n",
    "        criminal_agent.time_until_released = self.model.sentence_length \n",
    "        #not sure if this is gonna work right, the idea is that once they're arrested and in jail, ppl are no longer observing the crime being committed\n",
    "        criminal_agent.has_committed_crime_this_turn = False\n",
    "        self.model.num_arrests_made += 1\n",
    "    def step(self):\n",
    "        #this is called by the randomactivation scheduler\n",
    "        self.move()\n",
    "        self.look_for_crimes()\n",
    "    def advance(self):\n",
    "        #this is called by the voting scheduler\n",
    "        pass #cops don't vote?        \n",
    "        "
   ]
  },
  {
   "cell_type": "markdown",
   "metadata": {},
   "source": [
    "## Model definition"
   ]
  },
  {
   "cell_type": "markdown",
   "metadata": {},
   "source": [
    "Note about the scheduler: for correct updating of crime statistics, there need to be a few turns, something like\n",
    "\n",
    "do economic activiy (trade/steal) --> then the cops look around for crimes --> then the agents update their crime stats\n",
    "\n",
    "which scheduler would this work best with?"
   ]
  },
  {
   "cell_type": "markdown",
   "metadata": {},
   "source": [
    "I think we need a custom scheduler for the voting mechanism, and then run two schedulers in the model "
   ]
  },
  {
   "cell_type": "code",
   "execution_count": null,
   "metadata": {},
   "outputs": [],
   "source": [
    "class AdvanceOnlyScheduler(mesa.time.BaseScheduler):\n",
    "    def __init__(self, model):\n",
    "        super().__init__(model)\n",
    "\n",
    "    def step(self):\n",
    "        for agent in self.agent_buffer(shuffled=True):\n",
    "            agent.advance()\n"
   ]
  },
  {
   "cell_type": "code",
   "execution_count": 57,
   "metadata": {},
   "outputs": [],
   "source": [
    "class EconomicModel(mesa.Model):\n",
    "    def __init__(self, num_econ_agents, initial_cops=0, width=10, height=10, election_frequency = 20, sentence_length = 15):\n",
    "        super().__init__()\n",
    "        self.num_agents = num_econ_agents\n",
    "        self.num_cops = initial_cops\n",
    "        #create scheduler for movement and voting\n",
    "        self.schedule = mesa.time.RandomActivation(self)\n",
    "        self.voting_schedule = AdvanceOnlyScheduler(self)\n",
    "        #space\n",
    "        self.grid = mesa.space.MultiGrid(width, height, torus = True)\n",
    "\n",
    "        #parameters\n",
    "        self.sentence_length = sentence_length\n",
    "        self.prosperity = 0.05 #global prosperity if we want to model a dynamic economy, use as a multiplier for trade\n",
    "        self.tax_rate = 0.05 \n",
    "        self.election_frequency = election_frequency\n",
    "\n",
    "        #vars\n",
    "        self.votes = 0\n",
    "\n",
    "        #counters, this will have to be replaced with a datacollector\n",
    "        self.num_crimes_committed = 0\n",
    "        self.num_arrests_made = 0\n",
    "        self.total_stolen = 0\n",
    "        self.total_trade_income = 0\n",
    "        \n",
    "        # create agents\n",
    "        for i in range(self.num_agents):\n",
    "            a = EconomicAgent(i, self)\n",
    "            x = self.random.randrange(self.grid.width)\n",
    "            y = self.random.randrange(self.grid.height)\n",
    "            self.schedule.add(a)\n",
    "            self.grid.place_agent(a, (x, y))\n",
    "        for i in range(self.num_cops):\n",
    "            c = CopAgent(i, self)\n",
    "            x = self.random.randrange(self.grid.width)\n",
    "            y = self.random.randrange(self.grid.height)\n",
    "            self.schedule.add(c)\n",
    "            self.grid.place_agent(c, (x, y))\n",
    "\n",
    "    def step(self):\n",
    "        for i in range(self.election_frequency):\n",
    "            self.schedule.step()\n",
    "        self.voting_schedule.step()\n",
    "        \n",
    "        if self.votes >0:\n",
    "            tax_rate += 0.01\n",
    "        else:\n",
    "            tax_rate -= 0.01        \n",
    "        #TODO adjusting the number of cops and tax rate"
   ]
  },
  {
   "cell_type": "markdown",
   "metadata": {},
   "source": [
    "## Running, experiments, visualizations"
   ]
  },
  {
   "cell_type": "code",
   "execution_count": 53,
   "metadata": {},
   "outputs": [],
   "source": [
    "model = EconomicModel(num_econ_agents=15, initial_cops=0, width=10, height = 10)\n",
    "model.step()\n"
   ]
  },
  {
   "cell_type": "code",
   "execution_count": 54,
   "metadata": {},
   "outputs": [
    {
     "data": {
      "text/plain": [
       "[Text(0.5, 1.0, 'Number of agents on each cell of the grid')]"
      ]
     },
     "execution_count": 54,
     "metadata": {},
     "output_type": "execute_result"
    },
    {
     "data": {
      "image/png": "[encoded data removed]",
      "text/plain": [
       "<Figure size 400x400 with 1 Axes>"
      ]
     },
     "metadata": {},
     "output_type": "display_data"
    }
   ],
   "source": [
    "agent_counts = np.zeros((model.grid.width, model.grid.height))\n",
    "for cell_content, (x, y) in model.grid.coord_iter():\n",
    "    agent_count = len(cell_content)\n",
    "    agent_counts[x][y] = agent_count\n",
    "# Plot using seaborn, with a size of 5x5\n",
    "g = sns.heatmap(agent_counts, cmap=\"viridis\", annot=True, cbar=False, square=True)\n",
    "g.figure.set_size_inches(4, 4)\n",
    "g.set(title=\"Number of agents on each cell of the grid\")"
   ]
  }
 ],
 "metadata": {
  "kernelspec": {
   "display_name": "ABM-Notebooks-0-1-uqMzDi6o",
   "language": "python",
   "name": "python3"
  },
  "language_info": {
   "codemirror_mode": {
    "name": "ipython",
    "version": 3
   },
   "file_extension": ".py",
   "mimetype": "text/x-python",
   "name": "python",
   "nbconvert_exporter": "python",
   "pygments_lexer": "ipython3",
   "version": "3.11.5"
  }
 },
 "nbformat": 4,
 "nbformat_minor": 2
}
